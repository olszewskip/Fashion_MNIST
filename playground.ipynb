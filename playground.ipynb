{
 "cells": [
  {
   "cell_type": "code",
   "execution_count": 3,
   "metadata": {},
   "outputs": [],
   "source": [
    "import numpy as np\n",
    "import matplotlib.pyplot as plt\n",
    "\n",
    "from sklearn.preprocessing import MinMaxScaler, StandardScaler\n",
    "from sklearn.preprocessing import FunctionTransformer\n",
    "from sklearn.decomposition import TruncatedSVD\n",
    "from sklearn.pipeline import make_pipeline, Pipeline\n",
    "from sklearn.metrics import mean_squared_error\n",
    "\n",
    "import keras\n",
    "from keras.datasets import fashion_mnist\n",
    "from keras.datasets import mnist\n",
    "from keras.models import Sequential\n",
    "from keras.layers import Dense"
   ]
  },
  {
   "cell_type": "code",
   "execution_count": 2,
   "metadata": {},
   "outputs": [],
   "source": [
    "(X_train, y_train), (X_test, y_test) = mnist.load_data()"
   ]
  },
  {
   "cell_type": "code",
   "execution_count": 3,
   "metadata": {},
   "outputs": [],
   "source": [
    "from sklearn.base import BaseEstimator, TransformerMixin\n",
    "\n",
    "class Flattener(BaseEstimator, TransformerMixin):\n",
    "    def __init__(self):\n",
    "        return None\n",
    "    \n",
    "    def fit(self, X, y=None):\n",
    "        self.dims = X.shape\n",
    "        return self\n",
    "        \n",
    "    def transform(self, X):\n",
    "        return X.reshape(self.dims[0], -1).astype('float64')\n",
    "    \n",
    "    def inverse_transform(self, X):\n",
    "        return X.reshape(self.dims)\n",
    "\n",
    "    \n",
    "class MySVD(BaseEstimator, TransformerMixin):\n",
    "    def __init__(self, n):\n",
    "        self.n = n\n",
    "        return None\n",
    "    \n",
    "    def fit(self, X, y=None):\n",
    "        _, self.s, Vh = np.linalg.svd(X, full_matrices=False)\n",
    "        self.Vh_trunc = Vh[:self.n]\n",
    "        return self\n",
    "        \n",
    "    def transform(self, X):\n",
    "        # ( self.Vh_trunc @ X.T ).T\n",
    "        return X @ self.Vh_trunc.T\n",
    "    \n",
    "    def inverse_transform(self, X):\n",
    "        # (self.Vh.T @ X.T ).T\n",
    "        return  X @ self.Vh_trunc"
   ]
  },
  {
   "cell_type": "code",
   "execution_count": 4,
   "metadata": {},
   "outputs": [],
   "source": [
    "img_dims = X_train[0].shape\n",
    "max_ = X_train.max() # 255\n",
    "X_train_flat = X_train.reshape(X_train.shape[0], -1)\n",
    "X_test_flat = X_test.reshape(X_test.shape[0], -1)"
   ]
  },
  {
   "cell_type": "code",
   "execution_count": 5,
   "metadata": {},
   "outputs": [],
   "source": [
    "X_train_flat_mu = X_train_flat.mean(axis=0)"
   ]
  },
  {
   "cell_type": "code",
   "execution_count": 6,
   "metadata": {},
   "outputs": [],
   "source": [
    "U, s, Vh = np.linalg.svd(X_train_flat - X_train_flat_mu, full_matrices=False)"
   ]
  },
  {
   "cell_type": "code",
   "execution_count": 7,
   "metadata": {},
   "outputs": [
    {
     "data": {
      "text/plain": [
       "(784, 784)"
      ]
     },
     "execution_count": 7,
     "metadata": {},
     "output_type": "execute_result"
    }
   ],
   "source": [
    "Vh.shape"
   ]
  },
  {
   "cell_type": "code",
   "execution_count": 8,
   "metadata": {},
   "outputs": [],
   "source": [
    "Vh_trunc = Vh[:20]\n",
    "X_train_flat_reconstruct0 = (Vh_trunc.T @ (Vh_trunc @ (X_train_flat - X_train_flat_mu).T) ).T + X_train_flat_mu\n",
    "X_train_reconstruct0 = X_train_flat_reconstruct0.reshape(X_train.shape[0], *img_dims)"
   ]
  },
  {
   "cell_type": "code",
   "execution_count": 9,
   "metadata": {},
   "outputs": [
    {
     "data": {
      "text/plain": [
       "array([252, 252,  84,   0,   0,   0,   0,   0,   0,   0,   0,   0,   0,\n",
       "        85, 252, 252, 252, 225, 223, 114], dtype=uint8)"
      ]
     },
     "execution_count": 9,
     "metadata": {},
     "output_type": "execute_result"
    }
   ],
   "source": [
    "X_train_flat[123][300:320]"
   ]
  },
  {
   "cell_type": "code",
   "execution_count": 11,
   "metadata": {},
   "outputs": [
    {
     "data": {
      "text/plain": [
       "array([2.68645357e+02, 1.75722754e+02, 8.56133813e+01, 3.32379180e+01,\n",
       "       1.20536354e+01, 4.88831192e+00, 7.69501000e-01, 1.06695139e-02,\n",
       "       5.19496220e-02, 7.81874351e-01, 4.24626610e+00, 1.07911380e+01,\n",
       "       2.35274360e+01, 4.44916067e+01, 7.55180609e+01, 1.10507247e+02,\n",
       "       1.35438722e+02, 1.42813759e+02, 1.41387100e+02, 1.39044059e+02])"
      ]
     },
     "execution_count": 11,
     "metadata": {},
     "output_type": "execute_result"
    }
   ],
   "source": [
    "X_train_reconstruct0[123].ravel()[300:320]"
   ]
  },
  {
   "cell_type": "code",
   "execution_count": 12,
   "metadata": {},
   "outputs": [
    {
     "data": {
      "text/plain": [
       "Pipeline(memory=None,\n",
       "     steps=[('flattener', Flattener()), ('scaler', StandardScaler(copy=True, with_mean=True, with_std=False)), ('pca', MySVD(n=20))])"
      ]
     },
     "execution_count": 12,
     "metadata": {},
     "output_type": "execute_result"
    }
   ],
   "source": [
    "transformers1 = []\n",
    "transformers1.append( ('flattener', Flattener()) )\n",
    "transformers1.append( ('scaler', StandardScaler(with_mean=True, with_std=False)) )\n",
    "transformers1.append( ('pca', MySVD(20)) )\n",
    "pipe1 = Pipeline(transformers1)\n",
    "pipe1.fit(X_train)"
   ]
  },
  {
   "cell_type": "code",
   "execution_count": 13,
   "metadata": {},
   "outputs": [],
   "source": [
    "X_train_reconstruct1 = pipe1.inverse_transform(pipe1.transform(X_train))"
   ]
  },
  {
   "cell_type": "code",
   "execution_count": 14,
   "metadata": {},
   "outputs": [
    {
     "data": {
      "text/plain": [
       "array([2.68645357e+02, 1.75722754e+02, 8.56133813e+01, 3.32379180e+01,\n",
       "       1.20536354e+01, 4.88831192e+00, 7.69501000e-01, 1.06695139e-02,\n",
       "       5.19496220e-02, 7.81874351e-01, 4.24626610e+00, 1.07911380e+01,\n",
       "       2.35274360e+01, 4.44916067e+01, 7.55180609e+01, 1.10507247e+02,\n",
       "       1.35438722e+02, 1.42813759e+02, 1.41387100e+02, 1.39044059e+02])"
      ]
     },
     "execution_count": 14,
     "metadata": {},
     "output_type": "execute_result"
    }
   ],
   "source": [
    "X_train_reconstruct1[123].ravel()[300:320]"
   ]
  },
  {
   "cell_type": "code",
   "execution_count": 56,
   "metadata": {},
   "outputs": [
    {
     "data": {
      "text/plain": [
       "Pipeline(memory=None,\n",
       "     steps=[('flattener', Flattener()), ('scaler', StandardScaler(copy=True, with_mean=True, with_std=False)), ('pca', TruncatedSVD(algorithm='arpack', n_components=20, n_iter=5, random_state=None,\n",
       "       tol=0.0))])"
      ]
     },
     "execution_count": 56,
     "metadata": {},
     "output_type": "execute_result"
    }
   ],
   "source": [
    "transformers2 = []\n",
    "transformers2.append( ('flattener', Flattener()) )\n",
    "transformers2.append( ('scaler', StandardScaler(with_mean=True, with_std=False)) )\n",
    "transformers2.append( ('pca', TruncatedSVD(20, algorithm='arpack')) )\n",
    "pipe2 = Pipeline(transformers2)\n",
    "pipe2.fit(X_train)"
   ]
  },
  {
   "cell_type": "code",
   "execution_count": 57,
   "metadata": {},
   "outputs": [],
   "source": [
    "X_train_reconstruct2 = pipe2.inverse_transform(pipe2.transform(X_train))"
   ]
  },
  {
   "cell_type": "code",
   "execution_count": 17,
   "metadata": {},
   "outputs": [
    {
     "data": {
      "text/plain": [
       "array([2.69692196e+02, 1.75831381e+02, 8.52420328e+01, 3.29329453e+01,\n",
       "       1.19543014e+01, 4.88998614e+00, 7.76348004e-01, 9.41586722e-03,\n",
       "       5.18385726e-02, 7.82657874e-01, 4.24787076e+00, 1.08000174e+01,\n",
       "       2.35155937e+01, 4.43669179e+01, 7.52145013e+01, 1.10326036e+02,\n",
       "       1.35956982e+02, 1.43920463e+02, 1.42009751e+02, 1.38762405e+02])"
      ]
     },
     "execution_count": 17,
     "metadata": {},
     "output_type": "execute_result"
    }
   ],
   "source": [
    "X_train_reconstruct2[123].ravel()[300:320]"
   ]
  },
  {
   "cell_type": "code",
   "execution_count": null,
   "metadata": {},
   "outputs": [],
   "source": [
    "transformers3 = []\n",
    "transformers3.append( ('flattener', Flattener()) )\n",
    "transformers3.append( ('pca', PCA(20, svd_solver='arpack')) )\n",
    "pipe3 = Pipeline(transformers3)\n",
    "pipe3.fit(X_train)"
   ]
  },
  {
   "cell_type": "code",
   "execution_count": null,
   "metadata": {},
   "outputs": [],
   "source": [
    "pipe3.transform(X_train).shape"
   ]
  },
  {
   "cell_type": "code",
   "execution_count": 63,
   "metadata": {},
   "outputs": [],
   "source": [
    "X_train_reconstruct3 = pipe3.inverse_transform(pipe3.transform(X_train))"
   ]
  },
  {
   "cell_type": "code",
   "execution_count": 45,
   "metadata": {},
   "outputs": [],
   "source": [
    "X_train_reconstruct4 = pipe4.inverse_transform(pipe4.transform(X_train))"
   ]
  },
  {
   "cell_type": "code",
   "execution_count": 49,
   "metadata": {},
   "outputs": [
    {
     "data": {
      "text/plain": [
       "1558.626851449607"
      ]
     },
     "execution_count": 49,
     "metadata": {},
     "output_type": "execute_result"
    }
   ],
   "source": [
    "mean_squared_error(X_train.ravel(), X_train_reconstruct0.ravel())"
   ]
  },
  {
   "cell_type": "code",
   "execution_count": 22,
   "metadata": {},
   "outputs": [],
   "source": [
    "def mse_img(X, X_reconstruced):\n",
    "    return np.mean((X-X_reconstruced)**2)"
   ]
  },
  {
   "cell_type": "code",
   "execution_count": 23,
   "metadata": {},
   "outputs": [
    {
     "data": {
      "text/plain": [
       "1558.626851449607"
      ]
     },
     "execution_count": 23,
     "metadata": {},
     "output_type": "execute_result"
    }
   ],
   "source": [
    "mse_img(X_train, X_train_reconstruct0)"
   ]
  },
  {
   "cell_type": "code",
   "execution_count": 60,
   "metadata": {},
   "outputs": [
    {
     "data": {
      "text/plain": [
       "1558.626851449607"
      ]
     },
     "execution_count": 60,
     "metadata": {},
     "output_type": "execute_result"
    }
   ],
   "source": [
    "mse_img(X_train, X_train_reconstruct1)"
   ]
  },
  {
   "cell_type": "code",
   "execution_count": 58,
   "metadata": {},
   "outputs": [
    {
     "data": {
      "text/plain": [
       "1558.626851449607"
      ]
     },
     "execution_count": 58,
     "metadata": {},
     "output_type": "execute_result"
    }
   ],
   "source": [
    "mse_img(X_train, X_train_reconstruct2)"
   ]
  },
  {
   "cell_type": "code",
   "execution_count": 64,
   "metadata": {},
   "outputs": [
    {
     "data": {
      "text/plain": [
       "1558.6268514496073"
      ]
     },
     "execution_count": 64,
     "metadata": {},
     "output_type": "execute_result"
    }
   ],
   "source": [
    "mse_img(X_train, X_train_reconstruct3)"
   ]
  },
  {
   "cell_type": "code",
   "execution_count": 98,
   "metadata": {},
   "outputs": [],
   "source": [
    "flattener = Flattener()\n",
    "scaler = MinMaxScaler()\n",
    "dim_reducer = TruncatedSVD(n_components=20)"
   ]
  },
  {
   "cell_type": "code",
   "execution_count": 99,
   "metadata": {},
   "outputs": [],
   "source": [
    "transformers = [('flattener', flattener), ('scaler', scaler), ('dim_reducer', dim_reducer)]\n",
    "pipe = Pipeline(transformers)"
   ]
  },
  {
   "cell_type": "code",
   "execution_count": 101,
   "metadata": {},
   "outputs": [],
   "source": [
    "X_train_2 = pipe.fit_transform(X_train)"
   ]
  },
  {
   "cell_type": "code",
   "execution_count": 42,
   "metadata": {},
   "outputs": [
    {
     "data": {
      "text/plain": [
       "(47040000,)"
      ]
     },
     "execution_count": 42,
     "metadata": {},
     "output_type": "execute_result"
    }
   ],
   "source": [
    "raveler.transform(X_train).shape"
   ]
  },
  {
   "cell_type": "code",
   "execution_count": 5,
   "metadata": {},
   "outputs": [
    {
     "data": {
      "text/plain": [
       "784"
      ]
     },
     "execution_count": 5,
     "metadata": {},
     "output_type": "execute_result"
    }
   ],
   "source": [
    "prod = 1\n",
    "for num in img_dims:\n",
    "    prod *= num\n",
    "prod"
   ]
  },
  {
   "cell_type": "code",
   "execution_count": 6,
   "metadata": {},
   "outputs": [
    {
     "data": {
      "text/plain": [
       "512"
      ]
     },
     "execution_count": 6,
     "metadata": {},
     "output_type": "execute_result"
    }
   ],
   "source": [
    "2**9"
   ]
  },
  {
   "cell_type": "code",
   "execution_count": 7,
   "metadata": {},
   "outputs": [
    {
     "data": {
      "text/plain": [
       "(28, 28)"
      ]
     },
     "execution_count": 7,
     "metadata": {},
     "output_type": "execute_result"
    }
   ],
   "source": [
    "img_dims"
   ]
  },
  {
   "cell_type": "code",
   "execution_count": 11,
   "metadata": {},
   "outputs": [
    {
     "name": "stdout",
     "output_type": "stream",
     "text": [
      "_________________________________________________________________\n",
      "Layer (type)                 Output Shape              Param #   \n",
      "=================================================================\n",
      "dense_7 (Dense)              (None, 512)               401920    \n",
      "_________________________________________________________________\n",
      "dense_8 (Dense)              (None, 128)               65664     \n",
      "_________________________________________________________________\n",
      "dense_9 (Dense)              (None, 20)                2580      \n",
      "_________________________________________________________________\n",
      "dense_10 (Dense)             (None, 128)               2688      \n",
      "_________________________________________________________________\n",
      "dense_11 (Dense)             (None, 512)               66048     \n",
      "_________________________________________________________________\n",
      "dense_12 (Dense)             (None, 784)               402192    \n",
      "=================================================================\n",
      "Total params: 941,092\n",
      "Trainable params: 941,092\n",
      "Non-trainable params: 0\n",
      "_________________________________________________________________\n"
     ]
    }
   ],
   "source": [
    "model = Sequential()\n",
    "model.add(Dense(2**9, activation='elu', input_shape = (prod,) ))\n",
    "model.add(Dense(2**7, activation='elu'))\n",
    "model.add(Dense(20, activation='linear', name='encoder'))\n",
    "model.add(Dense(2**7, activation='elu'))\n",
    "model.add(Dense(2**9, activation='elu'))\n",
    "model.add(Dense(prod, activation='sigmoid'))\n",
    "model.compile(loss='mean_squared_error', optimizer='adam')\n",
    "model.summary()"
   ]
  },
  {
   "cell_type": "code",
   "execution_count": 24,
   "metadata": {},
   "outputs": [
    {
     "data": {
      "text/plain": [
       "Pipeline(memory=None,\n",
       "     steps=[('flattener', Flattener()), ('standardscaler', StandardScaler(copy=True, with_mean=True, with_std=True))])"
      ]
     },
     "execution_count": 24,
     "metadata": {},
     "output_type": "execute_result"
    }
   ],
   "source": [
    "preprocess = make_pipeline(Flattener(), StandardScaler())\n",
    "preprocess.fit(X_train)"
   ]
  },
  {
   "cell_type": "code",
   "execution_count": 25,
   "metadata": {},
   "outputs": [
    {
     "name": "stdout",
     "output_type": "stream",
     "text": [
      "Train on 54000 samples, validate on 6000 samples\n",
      "Epoch 1/3\n",
      "54000/54000 [==============================] - 12s 219us/step - loss: 0.7919 - val_loss: 0.6681\n",
      "Epoch 2/3\n",
      "54000/54000 [==============================] - 13s 235us/step - loss: 0.6770 - val_loss: 0.6547\n",
      "Epoch 3/3\n",
      "54000/54000 [==============================] - 13s 236us/step - loss: 0.6686 - val_loss: 0.6502\n"
     ]
    }
   ],
   "source": [
    "history = model.fit(preprocess.transform(X_train), preprocess.transform(X_train), batch_size = 128, epochs=3, validation_split=0.1)"
   ]
  },
  {
   "cell_type": "code",
   "execution_count": 20,
   "metadata": {},
   "outputs": [
    {
     "data": {
      "text/plain": [
       "(784,)"
      ]
     },
     "execution_count": 20,
     "metadata": {},
     "output_type": "execute_result"
    }
   ],
   "source": [
    "X_train[0].reshape(-1).shape"
   ]
  },
  {
   "cell_type": "code",
   "execution_count": 21,
   "metadata": {},
   "outputs": [],
   "source": [
    "X_train_pred = model.predict(preprocess.transform(X_train))"
   ]
  },
  {
   "cell_type": "code",
   "execution_count": 28,
   "metadata": {},
   "outputs": [],
   "source": [
    "X_train_reconstruct4 = preprocess.inverse_transform(X_train_pred)"
   ]
  },
  {
   "cell_type": "code",
   "execution_count": null,
   "metadata": {},
   "outputs": [],
   "source": []
  },
  {
   "cell_type": "code",
   "execution_count": null,
   "metadata": {},
   "outputs": [],
   "source": [
    "size = 10\n",
    "image_streams = (X_train, X_train_reconstruct4)\n",
    "plt.figure(figsize=(size, size * len(image_streams)))\n",
    "for row in range(10):\n",
    "    for idx, image_stream in enumerate(image_streams):\n",
    "        for column in range(10):\n",
    "            ax = plt.subplot(10 * len(image_streams), 10, 10 * (row*len(image_streams) + idx) + column + 1)\n",
    "            plt.imshow(image_stream[y_train==row][column].reshape(img_dims), cmap='gray')"
   ]
  }
 ],
 "metadata": {
  "kernelspec": {
   "display_name": "Python 3",
   "language": "python",
   "name": "python3"
  },
  "language_info": {
   "codemirror_mode": {
    "name": "ipython",
    "version": 3
   },
   "file_extension": ".py",
   "mimetype": "text/x-python",
   "name": "python",
   "nbconvert_exporter": "python",
   "pygments_lexer": "ipython3",
   "version": "3.6.8"
  }
 },
 "nbformat": 4,
 "nbformat_minor": 2
}
